{
 "cells": [
  {
   "cell_type": "code",
   "execution_count": 1,
   "metadata": {},
   "outputs": [],
   "source": [
    "import numpy as np\n",
    "import pandas as pd\n",
    "import matplotlib.pyplot as plt\n",
    "import seaborn as sns"
   ]
  },
  {
   "cell_type": "code",
   "execution_count": 2,
   "metadata": {},
   "outputs": [],
   "source": [
    "df = pd.read_csv('./data/data_clean.csv')"
   ]
  },
  {
   "cell_type": "code",
   "execution_count": 3,
   "metadata": {},
   "outputs": [],
   "source": [
    "# train test split, 80:20\n",
    "from sklearn.model_selection import train_test_split\n",
    "X = df.iloc[:, df.columns != \"loan_repaid\"]\n",
    "y = df[\"loan_repaid\"]\n",
    "\n",
    "X_train, X_test, y_train, y_test = train_test_split (X, y, test_size=0.2, random_state=44)"
   ]
  },
  {
   "cell_type": "code",
   "execution_count": 4,
   "metadata": {},
   "outputs": [],
   "source": [
    "# Normalize Data\n",
    "\n",
    "from sklearn.preprocessing import MinMaxScaler\n",
    "\n",
    "sc = MinMaxScaler()\n",
    "X_train = sc.fit_transform(X_train)\n",
    "X_test=sc.transform(X_test)"
   ]
  },
  {
   "cell_type": "code",
   "execution_count": 5,
   "metadata": {},
   "outputs": [],
   "source": [
    "from sklearn.metrics import classification_report, confusion_matrix, accuracy_score\n",
    "test_acc_list = [] #test accuracies\n",
    "train_acc_list = [] #train accuracies\n",
    "\n",
    "def train_and_test_classifier(classifier, X_train, y_train, y_test, verbose=False):  \n",
    "    \"\"\"\n",
    "    fits a classifier to the provided training data, prints out and returns the prediction \n",
    "    accuracy on both training and test sets.\n",
    "    \n",
    "    \"\"\"\n",
    "    # train features, train target\n",
    "    classifier.fit(X_train, y_train)\n",
    "    y_pred= classifier.predict(X_test)\n",
    "\n",
    "    # Summary of the prediction\n",
    "    print(classification_report(y_test, y_pred))\n",
    "    print(confusion_matrix(y_test, y_pred))\n",
    "\n",
    "    # Accuracy\n",
    "    train_acc = accuracy_score(classifier.predict(X_train),y_train)\n",
    "    test_acc = accuracy_score(y_pred,y_test)\n",
    "    print(\"Train Accuracy of the model is: \", train_acc)\n",
    "    print(\"Test Accuracy of the model is: \", test_acc)\n",
    "\n",
    "    \n",
    "    return train_acc, test_acc"
   ]
  },
  {
   "cell_type": "code",
   "execution_count": 6,
   "metadata": {},
   "outputs": [
    {
     "name": "stdout",
     "output_type": "stream",
     "text": [
      "              precision    recall  f1-score   support\n",
      "\n",
      "           0       0.86      1.00      0.92     10171\n",
      "           1       0.50      0.00      0.00      1694\n",
      "\n",
      "    accuracy                           0.86     11865\n",
      "   macro avg       0.68      0.50      0.46     11865\n",
      "weighted avg       0.81      0.86      0.79     11865\n",
      "\n",
      "[[10168     3]\n",
      " [ 1691     3]]\n",
      "Train Accuracy of the model is:  1.0\n",
      "Test Accuracy of the model is:  0.8572271386430679\n",
      "(1.0, 0.8572271386430679)\n"
     ]
    }
   ],
   "source": [
    "# RF classifier\n",
    "from sklearn.ensemble import RandomForestClassifier\n",
    "rf = RandomForestClassifier()\n",
    "\n",
    "res = train_and_test_classifier(rf,X_train, y_train, y_test, verbose=False)\n",
    "print(res)\n",
    "\n",
    "train_acc_list.append(res[0])\n",
    "test_acc_list.append(res[1])"
   ]
  },
  {
   "cell_type": "code",
   "execution_count": 7,
   "metadata": {},
   "outputs": [
    {
     "name": "stdout",
     "output_type": "stream",
     "text": [
      "              precision    recall  f1-score   support\n",
      "\n",
      "           0       0.86      1.00      0.92     10171\n",
      "           1       0.16      0.00      0.00      1694\n",
      "\n",
      "    accuracy                           0.86     11865\n",
      "   macro avg       0.51      0.50      0.46     11865\n",
      "weighted avg       0.76      0.86      0.79     11865\n",
      "\n",
      "[[10155    16]\n",
      " [ 1691     3]]\n",
      "Train Accuracy of the model is:  0.8552013316757623\n",
      "Test Accuracy of the model is:  0.8561314791403287\n",
      "(0.8552013316757623, 0.8561314791403287)\n"
     ]
    },
    {
     "name": "stderr",
     "output_type": "stream",
     "text": [
      "/Users/jessicayang/Workspace/lendingclub-ml/lending_venv/lib/python3.8/site-packages/sklearn/linear_model/_logistic.py:814: ConvergenceWarning: lbfgs failed to converge (status=1):\n",
      "STOP: TOTAL NO. of ITERATIONS REACHED LIMIT.\n",
      "\n",
      "Increase the number of iterations (max_iter) or scale the data as shown in:\n",
      "    https://scikit-learn.org/stable/modules/preprocessing.html\n",
      "Please also refer to the documentation for alternative solver options:\n",
      "    https://scikit-learn.org/stable/modules/linear_model.html#logistic-regression\n",
      "  n_iter_i = _check_optimize_result(\n"
     ]
    }
   ],
   "source": [
    "from sklearn.linear_model import LogisticRegression\n",
    "# Logistic Regression\n",
    "log= LogisticRegression()\n",
    "\n",
    "res = train_and_test_classifier(log,X_train, y_train, y_test, verbose=False)\n",
    "print(res)\n",
    "\n",
    "train_acc_list.append(res[0])\n",
    "test_acc_list.append(res[1])"
   ]
  },
  {
   "cell_type": "code",
   "execution_count": 8,
   "metadata": {},
   "outputs": [
    {
     "name": "stderr",
     "output_type": "stream",
     "text": [
      "/Users/jessicayang/Workspace/lendingclub-ml/lending_venv/lib/python3.8/site-packages/sklearn/metrics/_classification.py:1318: UndefinedMetricWarning: Precision and F-score are ill-defined and being set to 0.0 in labels with no predicted samples. Use `zero_division` parameter to control this behavior.\n",
      "  _warn_prf(average, modifier, msg_start, len(result))\n",
      "/Users/jessicayang/Workspace/lendingclub-ml/lending_venv/lib/python3.8/site-packages/sklearn/metrics/_classification.py:1318: UndefinedMetricWarning: Precision and F-score are ill-defined and being set to 0.0 in labels with no predicted samples. Use `zero_division` parameter to control this behavior.\n",
      "  _warn_prf(average, modifier, msg_start, len(result))\n",
      "/Users/jessicayang/Workspace/lendingclub-ml/lending_venv/lib/python3.8/site-packages/sklearn/metrics/_classification.py:1318: UndefinedMetricWarning: Precision and F-score are ill-defined and being set to 0.0 in labels with no predicted samples. Use `zero_division` parameter to control this behavior.\n",
      "  _warn_prf(average, modifier, msg_start, len(result))\n"
     ]
    },
    {
     "name": "stdout",
     "output_type": "stream",
     "text": [
      "              precision    recall  f1-score   support\n",
      "\n",
      "           0       0.86      1.00      0.92     10171\n",
      "           1       0.00      0.00      0.00      1694\n",
      "\n",
      "    accuracy                           0.86     11865\n",
      "   macro avg       0.43      0.50      0.46     11865\n",
      "weighted avg       0.73      0.86      0.79     11865\n",
      "\n",
      "[[10171     0]\n",
      " [ 1694     0]]\n",
      "Train Accuracy of the model is:  0.8553066857708759\n",
      "Test Accuracy of the model is:  0.8572271386430679\n",
      "(0.8553066857708759, 0.8572271386430679)\n"
     ]
    }
   ],
   "source": [
    "from sklearn import svm\n",
    "# this takes longer than the others to run\n",
    "clf = svm.SVC(kernel='linear')\n",
    "res = train_and_test_classifier(clf,X_train, y_train, y_test, verbose=False)\n",
    "print(res)\n",
    "\n",
    "train_acc_list.append(res[0])\n",
    "test_acc_list.append(res[1])"
   ]
  },
  {
   "cell_type": "code",
   "execution_count": 9,
   "metadata": {},
   "outputs": [
    {
     "name": "stdout",
     "output_type": "stream",
     "text": [
      "              precision    recall  f1-score   support\n",
      "\n",
      "           0       0.88      0.58      0.70     10171\n",
      "           1       0.18      0.54      0.27      1694\n",
      "\n",
      "    accuracy                           0.58     11865\n",
      "   macro avg       0.53      0.56      0.49     11865\n",
      "weighted avg       0.78      0.58      0.64     11865\n",
      "\n",
      "[[5944 4227]\n",
      " [ 776  918]]\n",
      "Train Accuracy of the model is:  0.5785836195452917\n",
      "Test Accuracy of the model is:  0.5783396544458491\n",
      "(0.5785836195452917, 0.5783396544458491)\n"
     ]
    }
   ],
   "source": [
    "from sklearn.naive_bayes import ComplementNB\n",
    "# ComplementNB is better for data with high class imbalance\n",
    "nb = ComplementNB()\n",
    "res = train_and_test_classifier(nb,X_train, y_train, y_test, verbose=False)\n",
    "print(res)\n",
    "\n",
    "train_acc_list.append(res[0])\n",
    "test_acc_list.append(res[1])"
   ]
  },
  {
   "cell_type": "code",
   "execution_count": 10,
   "metadata": {},
   "outputs": [],
   "source": [
    "# git clone --recursive https://github.com/dmlc/xgboost\n",
    "# cd xgboost\n",
    "# cp make/minimum.mk ./config.mk\n",
    "# make -j4\n",
    "# cd python-package\n",
    "# sudo python setup.py install\n",
    "# TODO: install XGBoost\n",
    "\n",
    "# from xgboost import XGBClassifier\n",
    "\n",
    "# xgb = XGBClassifier(use_label_encoder=False)\n",
    "\n",
    "# res = train_and_test_classifier(xgb,X_train, y_train, y_test, verbose=False)\n",
    "# print(res)\n",
    "\n",
    "# train_acc_list.append(res[0])\n",
    "# test_acc_list.append(res[1])\n",
    "\n",
    "# TODO: try Neural Nets"
   ]
  },
  {
   "cell_type": "code",
   "execution_count": 11,
   "metadata": {},
   "outputs": [
    {
     "data": {
      "image/png": "[encoded data removed]",
      "text/plain": [
       "<Figure size 432x288 with 1 Axes>"
      ]
     },
     "metadata": {
      "needs_background": "light"
     },
     "output_type": "display_data"
    }
   ],
   "source": [
    "# Plots\n",
    "from matplotlib.legend_handler import HandlerLine2D\n",
    "class_model = [1,2,3,4]\n",
    "\n",
    "my_xticks = ['RF','LR', 'SVM','CNB']\n",
    "\n",
    "plt.xticks(class_model, my_xticks)\n",
    "plot1, = plt.plot(class_model, train_acc_list, 'ro', label='train accuracy')\n",
    "plot2, = plt.plot(class_model, test_acc_list, 'o', label='test accuracy')\n",
    "\n",
    "\n",
    "plt.legend(handler_map={plot1: HandlerLine2D(numpoints=4)})\n",
    "plt.show()"
   ]
  },
  {
   "cell_type": "code",
   "execution_count": 12,
   "metadata": {},
   "outputs": [
    {
     "name": "stderr",
     "output_type": "stream",
     "text": [
      "/Users/jessicayang/Workspace/lendingclub-ml/lending_venv/lib/python3.8/site-packages/sklearn/linear_model/_logistic.py:814: ConvergenceWarning: lbfgs failed to converge (status=1):\n",
      "STOP: TOTAL NO. of ITERATIONS REACHED LIMIT.\n",
      "\n",
      "Increase the number of iterations (max_iter) or scale the data as shown in:\n",
      "    https://scikit-learn.org/stable/modules/preprocessing.html\n",
      "Please also refer to the documentation for alternative solver options:\n",
      "    https://scikit-learn.org/stable/modules/linear_model.html#logistic-regression\n",
      "  n_iter_i = _check_optimize_result(\n"
     ]
    },
    {
     "data": {
      "image/png": "[encoded data removed]",
      "text/plain": [
       "<Figure size 432x288 with 1 Axes>"
      ]
     },
     "metadata": {
      "needs_background": "light"
     },
     "output_type": "display_data"
    }
   ],
   "source": [
    "# further analysis for the best performer\n",
    "from sklearn.metrics import roc_curve, auc \n",
    "tmp = log.fit(X_train, y_train.ravel())\n",
    "y_pred_sample_score = tmp.decision_function(X_test)\n",
    "\n",
    "\n",
    "fpr, tpr, thresholds = roc_curve(y_test, y_pred_sample_score)\n",
    "\n",
    "roc_auc = auc(fpr,tpr)\n",
    "\n",
    "# Plot ROC\n",
    "plt.title('Receiver Operating Characteristic')\n",
    "plt.plot(fpr, tpr, 'b',label='AUC = %0.3f'% roc_auc)\n",
    "plt.legend(loc='lower right')\n",
    "plt.plot([0,1],[0,1],'r--')\n",
    "plt.xlim([-0.1,1.0])\n",
    "plt.ylim([-0.1,1.01])\n",
    "plt.ylabel('True Positive Rate')\n",
    "plt.xlabel('False Positive Rate')\n",
    "plt.show()"
   ]
  },
  {
   "cell_type": "code",
   "execution_count": 13,
   "metadata": {},
   "outputs": [
    {
     "name": "stdout",
     "output_type": "stream",
     "text": [
      "0.22183071185150088\n"
     ]
    },
    {
     "data": {
      "image/png": "[encoded data removed]",
      "text/plain": [
       "<Figure size 432x288 with 1 Axes>"
      ]
     },
     "metadata": {
      "needs_background": "light"
     },
     "output_type": "display_data"
    }
   ],
   "source": [
    "from sklearn.metrics import precision_recall_curve, auc\n",
    "precision, recall, thresholds = precision_recall_curve(y_test, y_pred_sample_score)\n",
    "\n",
    "prc_auc = auc(recall, precision)\n",
    "print(prc_auc)\n",
    "# Plot PRC\n",
    "plt.plot(recall, precision)\n",
    "plt.show()"
   ]
  }
 ],
 "metadata": {
  "interpreter": {
   "hash": "e40cc197853b249a2aa329b9ac69528511d407589c5f0a0e42c2ccf3dd046c5a"
  },
  "kernelspec": {
   "display_name": "Python 3.8.2 64-bit ('lending_venv': venv)",
   "language": "python",
   "name": "python3"
  },
  "language_info": {
   "codemirror_mode": {
    "name": "ipython",
    "version": 3
   },
   "file_extension": ".py",
   "mimetype": "text/x-python",
   "name": "python",
   "nbconvert_exporter": "python",
   "pygments_lexer": "ipython3",
   "version": "3.8.2"
  },
  "orig_nbformat": 4
 },
 "nbformat": 4,
 "nbformat_minor": 2
}
