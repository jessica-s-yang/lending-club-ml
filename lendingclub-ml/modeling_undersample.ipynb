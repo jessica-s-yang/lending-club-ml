{
 "cells": [
  {
   "cell_type": "code",
   "execution_count": 1,
   "metadata": {},
   "outputs": [],
   "source": [
    "import pandas as pd\n",
    "import matplotlib.pyplot as plt"
   ]
  },
  {
   "cell_type": "code",
   "execution_count": 2,
   "metadata": {},
   "outputs": [],
   "source": [
    "df = pd.read_csv('./data/data_clean.csv')"
   ]
  },
  {
   "cell_type": "code",
   "execution_count": 3,
   "metadata": {},
   "outputs": [],
   "source": [
    "# train test split, 80:20\n",
    "from sklearn.model_selection import train_test_split\n",
    "X = df.iloc[:, df.columns != \"loan_repaid\"]\n",
    "y = df[\"loan_repaid\"]\n",
    "\n",
    "X_train, X_test, y_train, y_test = train_test_split (X, y, test_size=0.2, random_state=44)"
   ]
  },
  {
   "cell_type": "code",
   "execution_count": 4,
   "metadata": {},
   "outputs": [],
   "source": [
    "# Normalize Data\n",
    "\n",
    "from sklearn.preprocessing import MinMaxScaler\n",
    "\n",
    "sc = MinMaxScaler()\n",
    "X_train = sc.fit_transform(X_train)\n",
    "X_test=sc.transform(X_test)"
   ]
  },
  {
   "cell_type": "code",
   "execution_count": 5,
   "metadata": {},
   "outputs": [
    {
     "name": "stdout",
     "output_type": "stream",
     "text": [
      "Before UnderSampling, counts of label '1': 6867\n",
      "Before UnderSampling, counts of label '0': 40592 \n",
      "\n",
      "After UnderSampling, counts of label '1': 6867\n",
      "After UnderSampling, counts of label '0': 6867\n"
     ]
    }
   ],
   "source": [
    "# undersample majority class\n",
    "from imblearn.over_sampling import RandomOverSampler\n",
    "from imblearn.under_sampling import RandomUnderSampler\n",
    "\n",
    "print(\"Before UnderSampling, counts of label '1': {}\".format(sum(y_train==1)))\n",
    "print(\"Before UnderSampling, counts of label '0': {} \\n\".format(sum(y_train==0)))\n",
    "\n",
    "# Over Sampling\n",
    "rus = RandomUnderSampler(random_state=0)\n",
    "X_train_res, y_train_res = rus.fit_resample(X_train, y_train.ravel())\n",
    "\n",
    "print(\"After UnderSampling, counts of label '1': {}\".format(sum(y_train_res==1)))\n",
    "print(\"After UnderSampling, counts of label '0': {}\".format(sum(y_train_res==0)))\n",
    "X_train = X_train_res\n",
    "y_train = y_train_res"
   ]
  },
  {
   "cell_type": "code",
   "execution_count": 6,
   "metadata": {},
   "outputs": [],
   "source": [
    "from sklearn.metrics import classification_report, confusion_matrix, accuracy_score\n",
    "test_acc_list = [] #test accuracies\n",
    "train_acc_list = [] #train accuracies\n",
    "\n",
    "def train_and_test_classifier(classifier, X_train, y_train, y_test, verbose=False):  \n",
    "    \"\"\"\n",
    "    fits a classifier to the provided training data, prints out and returns the prediction \n",
    "    accuracy on both training and test sets.\n",
    "    \n",
    "    \"\"\"\n",
    "    # train features, train target\n",
    "    classifier.fit(X_train, y_train)\n",
    "    y_pred= classifier.predict(X_test)\n",
    "\n",
    "    # Summary of the prediction\n",
    "    print(classification_report(y_test, y_pred))\n",
    "    print(confusion_matrix(y_test, y_pred))\n",
    "\n",
    "    # Accuracy\n",
    "    train_acc = accuracy_score(classifier.predict(X_train),y_train)\n",
    "    test_acc = accuracy_score(y_pred,y_test)\n",
    "    print(\"Train Accuracy of the model is: \", train_acc)\n",
    "    print(\"Test Accuracy of the model is: \", test_acc)\n",
    "\n",
    "    \n",
    "    return train_acc, test_acc"
   ]
  },
  {
   "cell_type": "code",
   "execution_count": 7,
   "metadata": {},
   "outputs": [
    {
     "name": "stdout",
     "output_type": "stream",
     "text": [
      "              precision    recall  f1-score   support\n",
      "\n",
      "           0       0.89      0.63      0.74     10171\n",
      "           1       0.20      0.55      0.29      1694\n",
      "\n",
      "    accuracy                           0.61     11865\n",
      "   macro avg       0.55      0.59      0.51     11865\n",
      "weighted avg       0.79      0.61      0.67     11865\n",
      "\n",
      "[[6357 3814]\n",
      " [ 756  938]]\n",
      "Train Accuracy of the model is:  1.0\n",
      "Test Accuracy of the model is:  0.6148335440370839\n",
      "(1.0, 0.6148335440370839)\n"
     ]
    }
   ],
   "source": [
    "# RF classifier\n",
    "from sklearn.ensemble import RandomForestClassifier\n",
    "rf = RandomForestClassifier()\n",
    "\n",
    "res = train_and_test_classifier(rf,X_train, y_train, y_test, verbose=False)\n",
    "print(res)\n",
    "\n",
    "train_acc_list.append(res[0])\n",
    "test_acc_list.append(res[1])"
   ]
  },
  {
   "cell_type": "code",
   "execution_count": 8,
   "metadata": {},
   "outputs": [
    {
     "name": "stdout",
     "output_type": "stream",
     "text": [
      "              precision    recall  f1-score   support\n",
      "\n",
      "           0       0.90      0.63      0.74     10171\n",
      "           1       0.20      0.56      0.30      1694\n",
      "\n",
      "    accuracy                           0.62     11865\n",
      "   macro avg       0.55      0.60      0.52     11865\n",
      "weighted avg       0.80      0.62      0.68     11865\n",
      "\n",
      "[[6399 3772]\n",
      " [ 737  957]]\n",
      "Train Accuracy of the model is:  0.6128585990971313\n",
      "Test Accuracy of the model is:  0.6199747155499368\n",
      "(0.6128585990971313, 0.6199747155499368)\n"
     ]
    },
    {
     "name": "stderr",
     "output_type": "stream",
     "text": [
      "/Users/jessicayang/Workspace/lendingclub-ml/lending_venv/lib/python3.8/site-packages/sklearn/linear_model/_logistic.py:814: ConvergenceWarning: lbfgs failed to converge (status=1):\n",
      "STOP: TOTAL NO. of ITERATIONS REACHED LIMIT.\n",
      "\n",
      "Increase the number of iterations (max_iter) or scale the data as shown in:\n",
      "    https://scikit-learn.org/stable/modules/preprocessing.html\n",
      "Please also refer to the documentation for alternative solver options:\n",
      "    https://scikit-learn.org/stable/modules/linear_model.html#logistic-regression\n",
      "  n_iter_i = _check_optimize_result(\n"
     ]
    }
   ],
   "source": [
    "from sklearn.linear_model import LogisticRegression\n",
    "# Logistic Regression\n",
    "log= LogisticRegression()\n",
    "\n",
    "res = train_and_test_classifier(log,X_train, y_train, y_test, verbose=False)\n",
    "print(res)\n",
    "\n",
    "train_acc_list.append(res[0])\n",
    "test_acc_list.append(res[1])"
   ]
  },
  {
   "cell_type": "code",
   "execution_count": 9,
   "metadata": {},
   "outputs": [],
   "source": [
    "# svm takes too long for testing"
   ]
  },
  {
   "cell_type": "code",
   "execution_count": 10,
   "metadata": {},
   "outputs": [
    {
     "name": "stdout",
     "output_type": "stream",
     "text": [
      "              precision    recall  f1-score   support\n",
      "\n",
      "           0       0.89      0.58      0.70     10171\n",
      "           1       0.18      0.55      0.27      1694\n",
      "\n",
      "    accuracy                           0.58     11865\n",
      "   macro avg       0.53      0.57      0.49     11865\n",
      "weighted avg       0.79      0.58      0.64     11865\n",
      "\n",
      "[[5947 4224]\n",
      " [ 766  928]]\n",
      "Train Accuracy of the model is:  0.5740498034076016\n",
      "Test Accuracy of the model is:  0.5794353139485883\n",
      "(0.5740498034076016, 0.5794353139485883)\n"
     ]
    }
   ],
   "source": [
    "from sklearn.naive_bayes import ComplementNB\n",
    "# ComplementNB is better for data with high class imbalance\n",
    "nb = ComplementNB()\n",
    "res = train_and_test_classifier(nb,X_train, y_train, y_test, verbose=False)\n",
    "print(res)\n",
    "\n",
    "train_acc_list.append(res[0])\n",
    "test_acc_list.append(res[1])"
   ]
  },
  {
   "cell_type": "code",
   "execution_count": 11,
   "metadata": {},
   "outputs": [
    {
     "data": {
      "image/png": "[encoded data removed]",
      "text/plain": [
       "<Figure size 432x288 with 1 Axes>"
      ]
     },
     "metadata": {
      "needs_background": "light"
     },
     "output_type": "display_data"
    }
   ],
   "source": [
    "# Plots\n",
    "from matplotlib.legend_handler import HandlerLine2D\n",
    "class_model = [1,2,3]\n",
    "\n",
    "my_xticks = ['RF','LR', 'CNB']\n",
    "\n",
    "plt.xticks(class_model, my_xticks)\n",
    "plot1, = plt.plot(class_model, train_acc_list, 'ro', label='train accuracy')\n",
    "plot2, = plt.plot(class_model, test_acc_list, 'o', label='test accuracy')\n",
    "\n",
    "\n",
    "plt.legend(handler_map={plot1: HandlerLine2D(numpoints=4)})\n",
    "plt.show()"
   ]
  }
 ],
 "metadata": {
  "interpreter": {
   "hash": "e40cc197853b249a2aa329b9ac69528511d407589c5f0a0e42c2ccf3dd046c5a"
  },
  "kernelspec": {
   "display_name": "Python 3.8.2 64-bit ('lending_venv': venv)",
   "language": "python",
   "name": "python3"
  },
  "language_info": {
   "codemirror_mode": {
    "name": "ipython",
    "version": 3
   },
   "file_extension": ".py",
   "mimetype": "text/x-python",
   "name": "python",
   "nbconvert_exporter": "python",
   "pygments_lexer": "ipython3",
   "version": "3.8.2"
  },
  "orig_nbformat": 4
 },
 "nbformat": 4,
 "nbformat_minor": 2
}
